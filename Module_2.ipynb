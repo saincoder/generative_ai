{
  "nbformat": 4,
  "nbformat_minor": 0,
  "metadata": {
    "colab": {
      "provenance": [],
      "authorship_tag": "ABX9TyNZytCRI/nlwm1UcHW7sz/v",
      "include_colab_link": true
    },
    "kernelspec": {
      "name": "python3",
      "display_name": "Python 3"
    },
    "language_info": {
      "name": "python"
    }
  },
  "cells": [
    {
      "cell_type": "markdown",
      "metadata": {
        "id": "view-in-github",
        "colab_type": "text"
      },
      "source": [
        "<a href=\"https://colab.research.google.com/github/saincoder404/generative_ai/blob/main/Module_2.ipynb\" target=\"_parent\"><img src=\"https://colab.research.google.com/assets/colab-badge.svg\" alt=\"Open In Colab\"/></a>"
      ]
    },
    {
      "cell_type": "markdown",
      "source": [
        "# ***Tokenization***\n",
        "\n",
        "Tokenization is the process of breaking down a piece of text, like a sentence or a paragraph, into individual words or “tokens.” These tokens are the basic building blocks of language, and tokenization helps computers understand and process human language by splitting it into manageable units.\n",
        "\n"
      ],
      "metadata": {
        "id": "a1ExctfoUHnC"
      }
    },
    {
      "cell_type": "markdown",
      "source": [
        "***White space tokenization***"
      ],
      "metadata": {
        "id": "rbpPhzdgPrQ7"
      }
    },
    {
      "cell_type": "code",
      "source": [
        "#white space tokenization\n",
        "text = \"Tokenization is the process of breaking down text into smaller, manageable units called tokens.\"\n",
        "tokens = text.split()\n",
        "print(tokens)"
      ],
      "metadata": {
        "colab": {
          "base_uri": "https://localhost:8080/"
        },
        "id": "NDFAUt5jPpxR",
        "outputId": "9eecea02-0fe0-435b-8ed2-246d44b0f6d5"
      },
      "execution_count": null,
      "outputs": [
        {
          "output_type": "stream",
          "name": "stdout",
          "text": [
            "['Tokenization', 'is', 'the', 'process', 'of', 'breaking', 'down', 'text', 'into', 'smaller,', 'manageable', 'units', 'called', 'tokens.']\n"
          ]
        }
      ]
    },
    {
      "cell_type": "markdown",
      "source": [
        "***Puncatuation based tokenization***"
      ],
      "metadata": {
        "id": "iY-dVwI2PzCg"
      }
    },
    {
      "cell_type": "code",
      "source": [
        "import re\n",
        "text = \"Hello, world! This is a sample sentence.\"\n",
        "tokens = re.findall(r\"\\w+|\\S\", text)\n",
        "print(tokens)"
      ],
      "metadata": {
        "colab": {
          "base_uri": "https://localhost:8080/"
        },
        "id": "ReZP7a7HQCrf",
        "outputId": "9fcf2d3f-d6f8-40e0-d270-3d8a8f78fc6b"
      },
      "execution_count": null,
      "outputs": [
        {
          "output_type": "stream",
          "name": "stdout",
          "text": [
            "['Hello', ',', 'world', '!', 'This', 'is', 'a', 'sample', 'sentence', '.']\n"
          ]
        }
      ]
    },
    {
      "cell_type": "code",
      "source": [],
      "metadata": {
        "id": "NehNfXtVP9FC"
      },
      "execution_count": null,
      "outputs": []
    },
    {
      "cell_type": "code",
      "execution_count": null,
      "metadata": {
        "colab": {
          "base_uri": "https://localhost:8080/"
        },
        "id": "ZxEMkfU6BDsw",
        "outputId": "267990f9-f049-4ba6-8e54-119dd66a6bd5"
      },
      "outputs": [
        {
          "output_type": "stream",
          "name": "stderr",
          "text": [
            "[nltk_data] Downloading package punkt to /root/nltk_data...\n",
            "[nltk_data]   Package punkt is already up-to-date!\n"
          ]
        },
        {
          "output_type": "execute_result",
          "data": {
            "text/plain": [
              "True"
            ]
          },
          "metadata": {},
          "execution_count": 62
        }
      ],
      "source": [
        "import nltk\n",
        "nltk.download(\"punkt\")"
      ]
    },
    {
      "cell_type": "code",
      "source": [
        "from nltk.tokenize import sent_tokenize, word_tokenize\n",
        "\n",
        "# Import two types of tokenizers from NLTK:\n",
        "# 1. `sent_tokenize` - Tokenizes text into sentences.\n",
        "# 2. `word_tokenize` - Tokenizes text into words."
      ],
      "metadata": {
        "id": "mRdve5ppJwN-"
      },
      "execution_count": null,
      "outputs": []
    },
    {
      "cell_type": "markdown",
      "source": [
        "Sentence tokenization : split a paragraph into list of sentences using sent_tokenize() method"
      ],
      "metadata": {
        "id": "FodfqV5_OoDX"
      }
    },
    {
      "cell_type": "code",
      "source": [
        "text = \"Tokenization is the process of breaking down text into smaller, manageable units called tokens. These tokens can be words, phrases, sentences, or other meaningful elements of text. The primary goal of tokenization is to simplify the text for further processing, such as analysis or modeling. For example, in natural language processing (NLP), tokenization helps convert a sentence into individual words or subwords, making it easier to analyze or generate text. There are different types of tokenization, including word tokenization and sentence tokenization. Word tokenization splits text into words, while sentence tokenization breaks text into sentences. Tokenization is a crucial step in various NLP tasks, including text classification, machine translation, and information retrieval.\"\n",
        "\n",
        "# STEP 1: TOKENIZATION - Breaking complex data into simpler units\n",
        "# Sentence Tokenizer\n",
        "sentences = sent_tokenize(text)\n",
        "\n",
        "print(\"Tokenized Sentences:\")\n",
        "# Print each sentence on a new line\n",
        "for i, sentence in enumerate(sentences, 1):\n",
        "    print(f\"Sentence {i}: {sentence}\")"
      ],
      "metadata": {
        "colab": {
          "base_uri": "https://localhost:8080/"
        },
        "id": "yndXyPNaOj_4",
        "outputId": "6fca8e75-bb63-4096-b8ac-20e5257f4e4b"
      },
      "execution_count": null,
      "outputs": [
        {
          "output_type": "stream",
          "name": "stdout",
          "text": [
            "Tokenized Sentences:\n",
            "Sentence 1: Tokenization is the process of breaking down text into smaller, manageable units called tokens.\n",
            "Sentence 2: These tokens can be words, phrases, sentences, or other meaningful elements of text.\n",
            "Sentence 3: The primary goal of tokenization is to simplify the text for further processing, such as analysis or modeling.\n",
            "Sentence 4: For example, in natural language processing (NLP), tokenization helps convert a sentence into individual words or subwords, making it easier to analyze or generate text.\n",
            "Sentence 5: There are different types of tokenization, including word tokenization and sentence tokenization.\n",
            "Sentence 6: Word tokenization splits text into words, while sentence tokenization breaks text into sentences.\n",
            "Sentence 7: Tokenization is a crucial step in various NLP tasks, including text classification, machine translation, and information retrieval.\n"
          ]
        }
      ]
    },
    {
      "cell_type": "code",
      "source": [
        "text = \"Tokenization is the process of breaking down text into smaller, manageable units called tokens. These tokens can be words, phrases, sentences, or other meaningful elements of text. The primary goal of tokenization is to simplify the text for further processing, such as analysis or modeling. For example, in natural language processing (NLP), tokenization helps convert a sentence into individual words or subwords, making it easier to analyze or generate text. There are different types of tokenization, including word tokenization and sentence tokenization. Word tokenization splits text into words, while sentence tokenization breaks text into sentences. Tokenization is a crucial step in various NLP tasks, including text classification, machine translation, and information retrieval.\"\n",
        "\n",
        "# STEP 1: TOKENIZATION: Breaking complex data into simple units\n",
        "# Word Tokenizer\n",
        "words = word_tokenize(text)\n",
        "for i, word in enumerate(words, 1):\n",
        "    print(f\"Word {i}: {word}\")"
      ],
      "metadata": {
        "colab": {
          "base_uri": "https://localhost:8080/"
        },
        "id": "nOXTsVdoOuNb",
        "outputId": "b252c12a-6fa6-4fa0-e802-ffb34caa80ee"
      },
      "execution_count": null,
      "outputs": [
        {
          "output_type": "stream",
          "name": "stdout",
          "text": [
            "Word 1: Tokenization\n",
            "Word 2: is\n",
            "Word 3: the\n",
            "Word 4: process\n",
            "Word 5: of\n",
            "Word 6: breaking\n",
            "Word 7: down\n",
            "Word 8: text\n",
            "Word 9: into\n",
            "Word 10: smaller\n",
            "Word 11: ,\n",
            "Word 12: manageable\n",
            "Word 13: units\n",
            "Word 14: called\n",
            "Word 15: tokens\n",
            "Word 16: .\n",
            "Word 17: These\n",
            "Word 18: tokens\n",
            "Word 19: can\n",
            "Word 20: be\n",
            "Word 21: words\n",
            "Word 22: ,\n",
            "Word 23: phrases\n",
            "Word 24: ,\n",
            "Word 25: sentences\n",
            "Word 26: ,\n",
            "Word 27: or\n",
            "Word 28: other\n",
            "Word 29: meaningful\n",
            "Word 30: elements\n",
            "Word 31: of\n",
            "Word 32: text\n",
            "Word 33: .\n",
            "Word 34: The\n",
            "Word 35: primary\n",
            "Word 36: goal\n",
            "Word 37: of\n",
            "Word 38: tokenization\n",
            "Word 39: is\n",
            "Word 40: to\n",
            "Word 41: simplify\n",
            "Word 42: the\n",
            "Word 43: text\n",
            "Word 44: for\n",
            "Word 45: further\n",
            "Word 46: processing\n",
            "Word 47: ,\n",
            "Word 48: such\n",
            "Word 49: as\n",
            "Word 50: analysis\n",
            "Word 51: or\n",
            "Word 52: modeling\n",
            "Word 53: .\n",
            "Word 54: For\n",
            "Word 55: example\n",
            "Word 56: ,\n",
            "Word 57: in\n",
            "Word 58: natural\n",
            "Word 59: language\n",
            "Word 60: processing\n",
            "Word 61: (\n",
            "Word 62: NLP\n",
            "Word 63: )\n",
            "Word 64: ,\n",
            "Word 65: tokenization\n",
            "Word 66: helps\n",
            "Word 67: convert\n",
            "Word 68: a\n",
            "Word 69: sentence\n",
            "Word 70: into\n",
            "Word 71: individual\n",
            "Word 72: words\n",
            "Word 73: or\n",
            "Word 74: subwords\n",
            "Word 75: ,\n",
            "Word 76: making\n",
            "Word 77: it\n",
            "Word 78: easier\n",
            "Word 79: to\n",
            "Word 80: analyze\n",
            "Word 81: or\n",
            "Word 82: generate\n",
            "Word 83: text\n",
            "Word 84: .\n",
            "Word 85: There\n",
            "Word 86: are\n",
            "Word 87: different\n",
            "Word 88: types\n",
            "Word 89: of\n",
            "Word 90: tokenization\n",
            "Word 91: ,\n",
            "Word 92: including\n",
            "Word 93: word\n",
            "Word 94: tokenization\n",
            "Word 95: and\n",
            "Word 96: sentence\n",
            "Word 97: tokenization\n",
            "Word 98: .\n",
            "Word 99: Word\n",
            "Word 100: tokenization\n",
            "Word 101: splits\n",
            "Word 102: text\n",
            "Word 103: into\n",
            "Word 104: words\n",
            "Word 105: ,\n",
            "Word 106: while\n",
            "Word 107: sentence\n",
            "Word 108: tokenization\n",
            "Word 109: breaks\n",
            "Word 110: text\n",
            "Word 111: into\n",
            "Word 112: sentences\n",
            "Word 113: .\n",
            "Word 114: Tokenization\n",
            "Word 115: is\n",
            "Word 116: a\n",
            "Word 117: crucial\n",
            "Word 118: step\n",
            "Word 119: in\n",
            "Word 120: various\n",
            "Word 121: NLP\n",
            "Word 122: tasks\n",
            "Word 123: ,\n",
            "Word 124: including\n",
            "Word 125: text\n",
            "Word 126: classification\n",
            "Word 127: ,\n",
            "Word 128: machine\n",
            "Word 129: translation\n",
            "Word 130: ,\n",
            "Word 131: and\n",
            "Word 132: information\n",
            "Word 133: retrieval\n",
            "Word 134: .\n"
          ]
        }
      ]
    },
    {
      "cell_type": "markdown",
      "source": [
        "# ***Stemming and Lemmatization***\n",
        "\n",
        "Stemming and Lemmatization are both techniques used to simplify words to their root forms, but they do it in different ways:\n",
        "\n",
        "Stemming:\n",
        "\n",
        "What It Does: Cuts off prefixes or suffixes from words to get to the base form.\n",
        "Example: For the word \"running,\" stemming might reduce it to \"run.\"\n",
        "How It Works: Uses rules to trim words, which can sometimes result in non-dictionary words (e.g., \"running\" to \"run\" or \"flies\" to \"fli\").\n",
        "Use Case: Fast and simple, often used in search engines and information retrieval.\n",
        "Lemmatization:\n",
        "\n",
        "What It Does: Converts words to their base or dictionary form by considering the word’s meaning.\n",
        "Example: For the word \"running,\" lemmatization reduces it to \"run\" and \"flies\" to \"fly.\"\n",
        "How It Works: Uses dictionaries and context to get the correct base form (e.g., \"running\" becomes \"run,\" and \"better\" becomes \"good\").\n",
        "Use Case: More accurate and context-aware, often used in more advanced language processing tasks.\n",
        "In summary, stemming is quicker but less precise, while lemmatization is more accurate but requires more computational resources."
      ],
      "metadata": {
        "id": "Cw4Crr18RlU1"
      }
    },
    {
      "cell_type": "code",
      "source": [
        "#WordNet is a lexical database for the English language is part of the NLTK corpus. WordNet NLTK module to find the meanings of words, synonyms, antonyms, and more.\n",
        "nltk.download('wordnet')"
      ],
      "metadata": {
        "colab": {
          "base_uri": "https://localhost:8080/"
        },
        "id": "tOhMbyfuQ8xu",
        "outputId": "820bb124-4989-43ae-b331-d2220fc6455e"
      },
      "execution_count": null,
      "outputs": [
        {
          "output_type": "stream",
          "name": "stderr",
          "text": [
            "[nltk_data] Downloading package wordnet to /root/nltk_data...\n",
            "[nltk_data]   Package wordnet is already up-to-date!\n"
          ]
        },
        {
          "output_type": "execute_result",
          "data": {
            "text/plain": [
              "True"
            ]
          },
          "metadata": {},
          "execution_count": 66
        }
      ]
    },
    {
      "cell_type": "code",
      "source": [
        "from nltk.stem import PorterStemmer\n",
        "from nltk.tokenize import word_tokenize\n",
        "\n",
        "# Example text\n",
        "text = \"The cats were running and jumping around the yard.\"\n",
        "\n",
        "# Tokenize the text into words\n",
        "words = word_tokenize(text)\n",
        "\n",
        "# Initialize the stemmer\n",
        "stemmer = PorterStemmer()\n",
        "\n",
        "# Apply stemming to each word\n",
        "stemmed_words = [stemmer.stem(word) for word in words]\n",
        "\n",
        "# Print the original and stemmed words\n",
        "print(\"Original words:\", words)\n",
        "print(\"Stemmed words:\", stemmed_words)"
      ],
      "metadata": {
        "colab": {
          "base_uri": "https://localhost:8080/"
        },
        "id": "UbxFX-EoRox3",
        "outputId": "31abd1cd-0bc2-4f98-d13f-a677e7f3afae"
      },
      "execution_count": null,
      "outputs": [
        {
          "output_type": "stream",
          "name": "stdout",
          "text": [
            "Original words: ['The', 'cats', 'were', 'running', 'and', 'jumping', 'around', 'the', 'yard', '.']\n",
            "Stemmed words: ['the', 'cat', 'were', 'run', 'and', 'jump', 'around', 'the', 'yard', '.']\n"
          ]
        }
      ]
    },
    {
      "cell_type": "code",
      "source": [
        "from nltk.stem import PorterStemmer\n",
        "from nltk.tokenize import word_tokenize\n",
        "\n",
        "# Example text\n",
        "text = \"The cats were running and jumping around the yard.\"\n",
        "\n",
        "# Tokenize the text into words\n",
        "words = word_tokenize(text)\n",
        "\n",
        "# Initialize the stemmer\n",
        "stemmer = PorterStemmer()\n",
        "\n",
        "# Apply stemming to each word\n",
        "stemmed_words = [stemmer.stem(word) for word in words]\n",
        "\n",
        "# Print the original and stemmed words\n",
        "print(\"Original words:\", words)\n",
        "print(\"Stemmed words:\", stemmed_words)"
      ],
      "metadata": {
        "colab": {
          "base_uri": "https://localhost:8080/"
        },
        "id": "xfVNxJ12RsBv",
        "outputId": "209a88fc-9881-48f4-c50d-88a2c5f70840"
      },
      "execution_count": null,
      "outputs": [
        {
          "output_type": "stream",
          "name": "stdout",
          "text": [
            "Original words: ['The', 'cats', 'were', 'running', 'and', 'jumping', 'around', 'the', 'yard', '.']\n",
            "Stemmed words: ['the', 'cat', 'were', 'run', 'and', 'jump', 'around', 'the', 'yard', '.']\n"
          ]
        }
      ]
    },
    {
      "cell_type": "markdown",
      "source": [
        "# ***Stopword***\n",
        "Stopwords are common words that are often filtered out or ignored during text processing and analysis. These words typically include articles, prepositions, conjunctions, and other frequently occurring terms that do not carry significant meaning by themselves. Examples include words like \"the,\" \"is,\" \"in,\" \"and,\" \"of,\" and \"to.\""
      ],
      "metadata": {
        "id": "b0uLnv1oRzmW"
      }
    },
    {
      "cell_type": "code",
      "source": [
        "from nltk.corpus import stopwords\n",
        "\n",
        "nltk.download('stopwords')\n",
        "\n",
        "# Print the list of stopwords for the English language\n",
        "print(stopwords.words(\"english\"))\n"
      ],
      "metadata": {
        "colab": {
          "base_uri": "https://localhost:8080/"
        },
        "id": "XiUaaO_lRvVN",
        "outputId": "89ffb047-9d3e-4b89-a80c-9e8b3ec95ac3"
      },
      "execution_count": null,
      "outputs": [
        {
          "output_type": "stream",
          "name": "stdout",
          "text": [
            "['i', 'me', 'my', 'myself', 'we', 'our', 'ours', 'ourselves', 'you', \"you're\", \"you've\", \"you'll\", \"you'd\", 'your', 'yours', 'yourself', 'yourselves', 'he', 'him', 'his', 'himself', 'she', \"she's\", 'her', 'hers', 'herself', 'it', \"it's\", 'its', 'itself', 'they', 'them', 'their', 'theirs', 'themselves', 'what', 'which', 'who', 'whom', 'this', 'that', \"that'll\", 'these', 'those', 'am', 'is', 'are', 'was', 'were', 'be', 'been', 'being', 'have', 'has', 'had', 'having', 'do', 'does', 'did', 'doing', 'a', 'an', 'the', 'and', 'but', 'if', 'or', 'because', 'as', 'until', 'while', 'of', 'at', 'by', 'for', 'with', 'about', 'against', 'between', 'into', 'through', 'during', 'before', 'after', 'above', 'below', 'to', 'from', 'up', 'down', 'in', 'out', 'on', 'off', 'over', 'under', 'again', 'further', 'then', 'once', 'here', 'there', 'when', 'where', 'why', 'how', 'all', 'any', 'both', 'each', 'few', 'more', 'most', 'other', 'some', 'such', 'no', 'nor', 'not', 'only', 'own', 'same', 'so', 'than', 'too', 'very', 's', 't', 'can', 'will', 'just', 'don', \"don't\", 'should', \"should've\", 'now', 'd', 'll', 'm', 'o', 're', 've', 'y', 'ain', 'aren', \"aren't\", 'couldn', \"couldn't\", 'didn', \"didn't\", 'doesn', \"doesn't\", 'hadn', \"hadn't\", 'hasn', \"hasn't\", 'haven', \"haven't\", 'isn', \"isn't\", 'ma', 'mightn', \"mightn't\", 'mustn', \"mustn't\", 'needn', \"needn't\", 'shan', \"shan't\", 'shouldn', \"shouldn't\", 'wasn', \"wasn't\", 'weren', \"weren't\", 'won', \"won't\", 'wouldn', \"wouldn't\"]\n"
          ]
        },
        {
          "output_type": "stream",
          "name": "stderr",
          "text": [
            "[nltk_data] Downloading package stopwords to /root/nltk_data...\n",
            "[nltk_data]   Package stopwords is already up-to-date!\n"
          ]
        }
      ]
    },
    {
      "cell_type": "code",
      "source": [
        "# Example text\n",
        "text = \"Stopwords are common words that are often filtered out or ignored during text processing and analysis. These words typically include articles, prepositions, conjunctions, and other frequently occurring terms that do not carry significant meaning by themselves. Examples include words like the, is, in, of, and to.\"\n",
        "\n",
        "# Tokenize the text into words\n",
        "words = word_tokenize(text)\n",
        "\n",
        "# Get the list of stopwords for English\n",
        "stop_words = set(stopwords.words('english'))\n",
        "\n",
        "# Filter out the stopwords\n",
        "filtered_words = [word for word in words if word.lower() not in stop_words]\n",
        "\n",
        "# Print the original and filtered words\n",
        "print(\"Original words:\", words)\n",
        "print(\"Filtered words:\", filtered_words)"
      ],
      "metadata": {
        "colab": {
          "base_uri": "https://localhost:8080/"
        },
        "id": "02-Y9qWbR2N6",
        "outputId": "876b851a-1680-4af3-816c-25f7a86e01a1"
      },
      "execution_count": null,
      "outputs": [
        {
          "output_type": "stream",
          "name": "stdout",
          "text": [
            "Original words: ['Stopwords', 'are', 'common', 'words', 'that', 'are', 'often', 'filtered', 'out', 'or', 'ignored', 'during', 'text', 'processing', 'and', 'analysis', '.', 'These', 'words', 'typically', 'include', 'articles', ',', 'prepositions', ',', 'conjunctions', ',', 'and', 'other', 'frequently', 'occurring', 'terms', 'that', 'do', 'not', 'carry', 'significant', 'meaning', 'by', 'themselves', '.', 'Examples', 'include', 'words', 'like', 'the', ',', 'is', ',', 'in', ',', 'of', ',', 'and', 'to', '.']\n",
            "Filtered words: ['Stopwords', 'common', 'words', 'often', 'filtered', 'ignored', 'text', 'processing', 'analysis', '.', 'words', 'typically', 'include', 'articles', ',', 'prepositions', ',', 'conjunctions', ',', 'frequently', 'occurring', 'terms', 'carry', 'significant', 'meaning', '.', 'Examples', 'include', 'words', 'like', ',', ',', ',', ',', '.']\n"
          ]
        }
      ]
    },
    {
      "cell_type": "markdown",
      "source": [
        "# ***Embedding***"
      ],
      "metadata": {
        "id": "fPip3J4gneDH"
      }
    },
    {
      "cell_type": "code",
      "source": [
        "from gensim.models import Word2Vec\n",
        "from gensim.utils import simple_preprocess\n",
        "\n",
        "# Sample sentence\n",
        "sentence = \"transforms each phrase, sentence, or paragraph into vector.\"\n",
        "\n",
        "# Tokenize the sentence\n",
        "tokenized_sentence = simple_preprocess(sentence)\n",
        "\n",
        "# Create and train the Word2Vec model on the tokenized sentence\n",
        "model = Word2Vec([tokenized_sentence], vector_size=100, window=5, min_count=1, sg=0)\n",
        "\n",
        "# Get the embedding for each word in the sentence\n",
        "embeddings = {word: model.wv[word] for word in tokenized_sentence}\n",
        "\n",
        "# Print the embeddings\n",
        "for word, embedding in embeddings.items():\n",
        "    print(f\"Embedding for '{word}':\\n{embedding}\\n\")"
      ],
      "metadata": {
        "colab": {
          "base_uri": "https://localhost:8080/"
        },
        "id": "03nQRKcYXENU",
        "outputId": "fd3ffb34-c90b-4709-87de-eecf29d275f4"
      },
      "execution_count": null,
      "outputs": [
        {
          "output_type": "stream",
          "name": "stdout",
          "text": [
            "Embedding for 'transforms':\n",
            "[ 8.1681199e-03 -4.4430327e-03  8.9854337e-03  8.2536647e-03\n",
            " -4.4352221e-03  3.0310510e-04  4.2744912e-03 -3.9263200e-03\n",
            " -5.5599655e-03 -6.5123225e-03 -6.7073823e-04 -2.9592158e-04\n",
            "  4.4630850e-03 -2.4740540e-03 -1.7260908e-04  2.4618758e-03\n",
            "  4.8675989e-03 -3.0808449e-05 -6.3394094e-03 -9.2608072e-03\n",
            "  2.6657581e-05  6.6618943e-03  1.4660227e-03 -8.9665223e-03\n",
            " -7.9386048e-03  6.5519023e-03 -3.7856805e-03  6.2549924e-03\n",
            " -6.6810320e-03  8.4796622e-03 -6.5163244e-03  3.2880199e-03\n",
            " -1.0569858e-03 -6.7875278e-03 -3.2875966e-03 -1.1614120e-03\n",
            " -5.4709399e-03 -1.2113475e-03 -7.5633135e-03  2.6466595e-03\n",
            "  9.0701487e-03 -2.3772502e-03 -9.7651005e-04  3.5135616e-03\n",
            "  8.6650876e-03 -5.9218528e-03 -6.8875779e-03 -2.9329848e-03\n",
            "  9.1476962e-03  8.6626766e-04 -8.6784009e-03 -1.4469790e-03\n",
            "  9.4794659e-03 -7.5494875e-03 -5.3580985e-03  9.3165627e-03\n",
            " -8.9737261e-03  3.8259076e-03  6.6544057e-04  6.6607012e-03\n",
            "  8.3127534e-03 -2.8507852e-03 -3.9923131e-03  8.8979173e-03\n",
            "  2.0896459e-03  6.2489416e-03 -9.4457148e-03  9.5901238e-03\n",
            " -1.3483083e-03 -6.0521150e-03  2.9925345e-03 -4.5661093e-04\n",
            "  4.7064926e-03 -2.2830211e-03 -4.1378425e-03  2.2778988e-03\n",
            "  8.3543835e-03 -4.9956059e-03  2.6686788e-03 -7.9905549e-03\n",
            " -6.7733466e-03 -4.6766878e-04 -8.7677278e-03  2.7894378e-03\n",
            "  1.5985954e-03 -2.3196924e-03  5.0037908e-03  9.7487867e-03\n",
            "  8.4542679e-03 -1.8802249e-03  2.0581519e-03 -4.0036892e-03\n",
            " -8.2414057e-03  6.2779556e-03 -1.9491815e-03 -6.6620467e-04\n",
            " -1.7713320e-03 -4.5356657e-03  4.0617096e-03 -4.2701806e-03]\n",
            "\n",
            "Embedding for 'each':\n",
            "[ 8.13227147e-03 -4.45733406e-03 -1.06835726e-03  1.00636482e-03\n",
            " -1.91113955e-04  1.14817743e-03  6.11386076e-03 -2.02715401e-05\n",
            " -3.24596534e-03 -1.51072862e-03  5.89729892e-03  1.51410222e-03\n",
            " -7.24261976e-04  9.33324732e-03 -4.92128357e-03 -8.38409644e-04\n",
            "  9.17541143e-03  6.74942741e-03  1.50285603e-03 -8.88256077e-03\n",
            "  1.14874600e-03 -2.28825561e-03  9.36823711e-03  1.20992784e-03\n",
            "  1.49006362e-03  2.40640994e-03 -1.83600665e-03 -4.99963388e-03\n",
            "  2.32429506e-04 -2.01418041e-03  6.60093315e-03  8.94012302e-03\n",
            " -6.74754381e-04  2.97701475e-03 -6.10765442e-03  1.69932481e-03\n",
            " -6.92623248e-03 -8.69402662e-03 -5.90020278e-03 -8.95647518e-03\n",
            "  7.27759488e-03 -5.77203138e-03  8.27635173e-03 -7.24354526e-03\n",
            "  3.42167495e-03  9.67499893e-03 -7.78544787e-03 -9.94505733e-03\n",
            " -4.32914635e-03 -2.68313056e-03 -2.71289347e-04 -8.83155130e-03\n",
            " -8.61755759e-03  2.80021061e-03 -8.20640661e-03 -9.06933658e-03\n",
            " -2.34046578e-03 -8.63180775e-03 -7.05664977e-03 -8.40115082e-03\n",
            " -3.01328895e-04 -4.56429832e-03  6.62717456e-03  1.52716041e-03\n",
            " -3.34147573e-03  6.10897178e-03 -6.01328490e-03 -4.65616956e-03\n",
            " -7.20750913e-03 -4.33658017e-03 -1.80932996e-03  6.48964290e-03\n",
            " -2.77039292e-03  4.91896737e-03  6.90444233e-03 -7.46370573e-03\n",
            "  4.56485013e-03  6.12697843e-03 -2.95447465e-03  6.62502181e-03\n",
            "  6.12587947e-03 -6.44348515e-03 -6.76455162e-03  2.53895880e-03\n",
            " -1.62381888e-03 -6.06512791e-03  9.49920900e-03 -5.13014663e-03\n",
            " -6.55409694e-03 -1.19885204e-04 -2.70142802e-03  4.44400299e-04\n",
            " -3.53745813e-03 -4.19330609e-04 -7.08615757e-04  8.22820642e-04\n",
            "  8.19481723e-03 -5.73670724e-03 -1.65952800e-03  5.57160750e-03]\n",
            "\n",
            "Embedding for 'phrase':\n",
            "[-8.7274825e-03  2.1301615e-03 -8.7354420e-04 -9.3190884e-03\n",
            " -9.4281426e-03 -1.4107180e-03  4.4324086e-03  3.7040710e-03\n",
            " -6.4986930e-03 -6.8730675e-03 -4.9994122e-03 -2.2868442e-03\n",
            " -7.2502876e-03 -9.6033178e-03 -2.7436293e-03 -8.3628409e-03\n",
            " -6.0388758e-03 -5.6709289e-03 -2.3441375e-03 -1.7069972e-03\n",
            " -8.9569986e-03 -7.3519943e-04  8.1525063e-03  7.6904297e-03\n",
            " -7.2061159e-03 -3.6668312e-03  3.1185520e-03 -9.5707225e-03\n",
            "  1.4764392e-03  6.5244664e-03  5.7464195e-03 -8.7630618e-03\n",
            " -4.5171441e-03 -8.1401607e-03  4.5956374e-05  9.2636338e-03\n",
            "  5.9733056e-03  5.0673080e-03  5.0610625e-03 -3.2429171e-03\n",
            "  9.5521836e-03 -7.3564244e-03 -7.2703874e-03 -2.2653891e-03\n",
            " -7.7856064e-04 -3.2161034e-03 -5.9258583e-04  7.4888230e-03\n",
            " -6.9751858e-04 -1.6249407e-03  2.7443992e-03 -8.3591007e-03\n",
            "  7.8558037e-03  8.5361041e-03 -9.5840869e-03  2.4462664e-03\n",
            "  9.9049713e-03 -7.6658037e-03 -6.9669187e-03 -7.7365171e-03\n",
            "  8.3959233e-03 -6.8133592e-04  9.1444086e-03 -8.1582209e-03\n",
            "  3.7430846e-03  2.6350426e-03  7.4271322e-04  2.3276759e-03\n",
            " -7.4690939e-03 -9.3583735e-03  2.3545765e-03  6.1484552e-03\n",
            "  7.9856887e-03  5.7358947e-03 -7.7733636e-04  8.3061643e-03\n",
            " -9.3363142e-03  3.4061326e-03  2.6675343e-04  3.8572443e-03\n",
            "  7.3857834e-03 -6.7251669e-03  5.5844807e-03 -9.5222248e-03\n",
            " -8.0445886e-04 -8.6887367e-03 -5.0986730e-03  9.2892265e-03\n",
            " -1.8582619e-03  2.9144264e-03  9.0712793e-03  8.9381328e-03\n",
            " -8.2084350e-03 -3.0123137e-03  9.8866057e-03  5.1044310e-03\n",
            " -1.5880871e-03 -8.6920215e-03  2.9615164e-03 -6.6758976e-03]\n",
            "\n",
            "Embedding for 'sentence':\n",
            "[-0.00713902  0.00124103 -0.00717672 -0.00224462  0.0037193   0.00583312\n",
            "  0.00119818  0.00210273 -0.00411039  0.00722533 -0.00630704  0.00464722\n",
            " -0.00821997  0.00203647 -0.00497705 -0.00424769 -0.00310898  0.00565521\n",
            "  0.0057984  -0.00497465  0.00077333 -0.00849578  0.00780981  0.00925729\n",
            " -0.00274233  0.00080022  0.00074665  0.00547788 -0.00860608  0.00058446\n",
            "  0.00686942  0.00223159  0.00112468 -0.00932216  0.00848237 -0.00626413\n",
            " -0.00299237  0.00349379 -0.00077263  0.00141129  0.00178199 -0.0068289\n",
            " -0.00972481  0.00904058  0.00619805 -0.00691293  0.00340348  0.00020606\n",
            "  0.00475375 -0.00711994  0.00402695  0.00434743  0.00995737 -0.00447374\n",
            " -0.00138926 -0.00731732 -0.00969783 -0.00908026 -0.00102275 -0.00650329\n",
            "  0.00484973 -0.00616403  0.00251919  0.00073944 -0.00339215 -0.00097922\n",
            "  0.00997913  0.00914589 -0.00446183  0.00908303 -0.00564176  0.00593092\n",
            " -0.00309722  0.00343175  0.00301723  0.00690046 -0.00237388  0.00877504\n",
            "  0.00758943 -0.00954765 -0.00800821 -0.0076379   0.00292326 -0.00279472\n",
            " -0.00692952 -0.00812826  0.00830918  0.00199049 -0.00932802 -0.00479272\n",
            "  0.00313674 -0.00471321  0.00528084 -0.00423344  0.0026418  -0.00804569\n",
            "  0.00620989  0.00481889  0.00078719  0.00301345]\n",
            "\n",
            "Embedding for 'or':\n",
            "[-8.2426779e-03  9.2993546e-03 -1.9766092e-04 -1.9672764e-03\n",
            "  4.6036304e-03 -4.0953159e-03  2.7431143e-03  6.9399667e-03\n",
            "  6.0654259e-03 -7.5107943e-03  9.3823504e-03  4.6718083e-03\n",
            "  3.9661205e-03 -6.2435055e-03  8.4599797e-03 -2.1501649e-03\n",
            "  8.8251876e-03 -5.3620026e-03 -8.1294188e-03  6.8245591e-03\n",
            "  1.6711927e-03 -2.1985089e-03  9.5136007e-03  9.4938548e-03\n",
            " -9.7740470e-03  2.5052286e-03  6.1566923e-03  3.8724565e-03\n",
            "  2.0227872e-03  4.3050171e-04  6.7363144e-04 -3.8206363e-03\n",
            " -7.1402504e-03 -2.0888723e-03  3.9238976e-03  8.8186832e-03\n",
            "  9.2591504e-03 -5.9759365e-03 -9.4026709e-03  9.7643770e-03\n",
            "  3.4297847e-03  5.1661171e-03  6.2823449e-03 -2.8042626e-03\n",
            "  7.3227035e-03  2.8302716e-03  2.8710044e-03 -2.3803699e-03\n",
            " -3.1282497e-03 -2.3701417e-03  4.2764368e-03  7.6057913e-05\n",
            " -9.5842788e-03 -9.6655441e-03 -6.1481940e-03 -1.2856961e-04\n",
            "  1.9974159e-03  9.4319675e-03  5.5843508e-03 -4.2906962e-03\n",
            "  2.7831673e-04  4.9643586e-03  7.6983096e-03 -1.1442233e-03\n",
            "  4.3234206e-03 -5.8143795e-03 -8.0419064e-04  8.1000505e-03\n",
            " -2.3600650e-03 -9.6634552e-03  5.7792603e-03 -3.9298222e-03\n",
            " -1.2228728e-03  9.9805174e-03 -2.2563506e-03 -4.7570644e-03\n",
            " -5.3293873e-03  6.9808899e-03 -5.7088719e-03  2.1136629e-03\n",
            " -5.2556600e-03  6.1207139e-03  4.3573068e-03  2.6063549e-03\n",
            " -1.4910829e-03 -2.7460635e-03  8.9929365e-03  5.2157748e-03\n",
            " -2.1625196e-03 -9.4703101e-03 -7.4260519e-03 -1.0637414e-03\n",
            " -7.9494715e-04 -2.5629092e-03  9.6827205e-03 -4.5852066e-04\n",
            "  5.8737611e-03 -7.4475873e-03 -2.5060738e-03 -5.5498634e-03]\n",
            "\n",
            "Embedding for 'paragraph':\n",
            "[ 9.4563962e-05  3.0773198e-03 -6.8126451e-03 -1.3754654e-03\n",
            "  7.6685809e-03  7.3464094e-03 -3.6732971e-03  2.6427018e-03\n",
            " -8.3171297e-03  6.2054861e-03 -4.6373224e-03 -3.1641065e-03\n",
            "  9.3113566e-03  8.7338570e-04  7.4907029e-03 -6.0740625e-03\n",
            "  5.1605068e-03  9.9228229e-03 -8.4573915e-03 -5.1356913e-03\n",
            " -7.0648370e-03 -4.8626517e-03 -3.7785638e-03 -8.5361991e-03\n",
            "  7.9556061e-03 -4.8439382e-03  8.4236134e-03  5.2625705e-03\n",
            " -6.5500261e-03  3.9578713e-03  5.4701497e-03 -7.4265362e-03\n",
            " -7.4057197e-03 -2.4752307e-03 -8.6257253e-03 -1.5815723e-03\n",
            " -4.0343284e-04  3.2996845e-03  1.4418805e-03 -8.8142155e-04\n",
            " -5.5940580e-03  1.7303658e-03 -8.9737179e-04  6.7936908e-03\n",
            "  3.9735902e-03  4.5294715e-03  1.4343059e-03 -2.6998555e-03\n",
            " -4.3668128e-03 -1.0320747e-03  1.4370275e-03 -2.6460087e-03\n",
            " -7.0737829e-03 -7.8053069e-03 -9.1217868e-03 -5.9351693e-03\n",
            " -1.8474245e-03 -4.3238713e-03 -6.4606704e-03 -3.7173224e-03\n",
            "  4.2891586e-03 -3.7390434e-03  8.3781751e-03  1.5339935e-03\n",
            " -7.2423196e-03  9.4337985e-03  7.6312125e-03  5.4932819e-03\n",
            " -6.8488456e-03  5.8226790e-03  4.0090932e-03  5.1853694e-03\n",
            "  4.2559016e-03  1.9397545e-03 -3.1701624e-03  8.3538452e-03\n",
            "  9.6121803e-03  3.7926030e-03 -2.8369951e-03  7.1275235e-06\n",
            "  1.2188185e-03 -8.4583247e-03 -8.2239453e-03 -2.3101569e-04\n",
            "  1.2372875e-03 -5.7433806e-03 -4.7252737e-03 -7.3460746e-03\n",
            "  8.3286157e-03  1.2129784e-04 -4.5093987e-03  5.7017053e-03\n",
            "  9.1800150e-03 -4.0998720e-03  7.9646818e-03  5.3754342e-03\n",
            "  5.8791232e-03  5.1259040e-04  8.2130842e-03 -7.0190406e-03]\n",
            "\n",
            "Embedding for 'into':\n",
            "[-8.6196875e-03  3.6657380e-03  5.1898835e-03  5.7419385e-03\n",
            "  7.4669183e-03 -6.1676754e-03  1.1056137e-03  6.0472824e-03\n",
            " -2.8400505e-03 -6.1735227e-03 -4.1022300e-04 -8.3689485e-03\n",
            " -5.6000124e-03  7.1045388e-03  3.3525396e-03  7.2256695e-03\n",
            "  6.8002474e-03  7.5307419e-03 -3.7891543e-03 -5.6180597e-04\n",
            "  2.3483764e-03 -4.5190323e-03  8.3887316e-03 -9.8581640e-03\n",
            "  6.7646410e-03  2.9144168e-03 -4.9328315e-03  4.3981876e-03\n",
            " -1.7395747e-03  6.7113843e-03  9.9648498e-03 -4.3624435e-03\n",
            " -5.9933780e-04 -5.6956373e-03  3.8508223e-03  2.7866268e-03\n",
            "  6.8910765e-03  6.1010956e-03  9.5384968e-03  9.2734173e-03\n",
            "  7.8980681e-03 -6.9895042e-03 -9.1558648e-03 -3.5575271e-04\n",
            " -3.0998408e-03  7.8943167e-03  5.9385742e-03 -1.5456629e-03\n",
            "  1.5109634e-03  1.7900408e-03  7.8175711e-03 -9.5101865e-03\n",
            " -2.0553112e-04  3.4691966e-03 -9.3897223e-04  8.3817719e-03\n",
            "  9.0107834e-03  6.5365066e-03 -7.1162102e-04  7.7104042e-03\n",
            " -8.5343346e-03  3.2071066e-03 -4.6379971e-03 -5.0889552e-03\n",
            "  3.5896183e-03  5.3703394e-03  7.7695143e-03 -5.7665063e-03\n",
            "  7.4333609e-03  6.6254963e-03 -3.7098003e-03 -8.7456414e-03\n",
            "  5.4374672e-03  6.5097557e-03 -7.8755023e-04 -6.7098560e-03\n",
            " -7.0859254e-03 -2.4970602e-03  5.1432536e-03 -3.6652375e-03\n",
            " -9.3700597e-03  3.8267397e-03  4.8844791e-03 -6.4285635e-03\n",
            "  1.2085581e-03 -2.0748770e-03  2.4403334e-05 -9.8835090e-03\n",
            "  2.6920044e-03 -4.7501065e-03  1.0876465e-03 -1.5762246e-03\n",
            "  2.1966731e-03 -7.8815762e-03 -2.7171839e-03  2.6631986e-03\n",
            "  5.3466819e-03 -2.3915148e-03 -9.5100943e-03  4.5058788e-03]\n",
            "\n",
            "Embedding for 'vector':\n",
            "[-5.3622725e-04  2.3643136e-04  5.1033497e-03  9.0092728e-03\n",
            " -9.3029495e-03 -7.1168090e-03  6.4588725e-03  8.9729885e-03\n",
            " -5.0154282e-03 -3.7633716e-03  7.3805046e-03 -1.5334714e-03\n",
            " -4.5366134e-03  6.5540518e-03 -4.8601604e-03 -1.8160177e-03\n",
            "  2.8765798e-03  9.9187379e-04 -8.2852151e-03 -9.4488179e-03\n",
            "  7.3117660e-03  5.0702621e-03  6.7576934e-03  7.6286553e-04\n",
            "  6.3508903e-03 -3.4053659e-03 -9.4640139e-04  5.7685734e-03\n",
            " -7.5216377e-03 -3.9361035e-03 -7.5115822e-03 -9.3004224e-04\n",
            "  9.5381187e-03 -7.3191668e-03 -2.3337686e-03 -1.9377411e-03\n",
            "  8.0774371e-03 -5.9308959e-03  4.5162440e-05 -4.7537340e-03\n",
            " -9.6035507e-03  5.0072931e-03 -8.7595852e-03 -4.3918253e-03\n",
            " -3.5099984e-05 -2.9618145e-04 -7.6612402e-03  9.6147433e-03\n",
            "  4.9820580e-03  9.2331432e-03 -8.1579173e-03  4.4957981e-03\n",
            " -4.1370760e-03  8.2453608e-04  8.4986202e-03 -4.4621765e-03\n",
            "  4.5175003e-03 -6.7869602e-03 -3.5484887e-03  9.3985079e-03\n",
            " -1.5776526e-03  3.2137157e-04 -4.1406299e-03 -7.6826881e-03\n",
            " -1.5080082e-03  2.4697948e-03 -8.8802696e-04  5.5336617e-03\n",
            " -2.7429771e-03  2.2600652e-03  5.4557943e-03  8.3459532e-03\n",
            " -1.4537406e-03 -9.2081428e-03  4.3705525e-03  5.7178497e-04\n",
            "  7.4419081e-03 -8.1328274e-04 -2.6384138e-03 -8.7530091e-03\n",
            " -8.5655687e-04  2.8265631e-03  5.4014288e-03  7.0526563e-03\n",
            " -5.7031214e-03  1.8588197e-03  6.0888636e-03 -4.7980510e-03\n",
            " -3.1072604e-03  6.7976294e-03  1.6314756e-03  1.8991709e-04\n",
            "  3.4736372e-03  2.1777749e-04  9.6188262e-03  5.0606038e-03\n",
            " -8.9173904e-03 -7.0415605e-03  9.0145587e-04  6.3925339e-03]\n",
            "\n"
          ]
        }
      ]
    },
    {
      "cell_type": "markdown",
      "source": [
        "# ***Gradient descent demo***"
      ],
      "metadata": {
        "id": "zfcbTRdtyXiz"
      }
    },
    {
      "cell_type": "code",
      "source": [
        "import numpy as np\n",
        "import matplotlib.pyplot as plt"
      ],
      "metadata": {
        "id": "zKQSXhx0WyHe"
      },
      "execution_count": null,
      "outputs": []
    },
    {
      "cell_type": "code",
      "source": [
        "def function(x):\n",
        "  return 3 * x ** 2 - 3 * x + 4\n",
        "\n",
        "def derivative(x):\n",
        "  return 6 * x - 3"
      ],
      "metadata": {
        "id": "1ZBhsJAZyhKF"
      },
      "execution_count": null,
      "outputs": []
    },
    {
      "cell_type": "code",
      "source": [
        "# gnerate random data\n",
        "x = np.linspace(-2,2,2001)"
      ],
      "metadata": {
        "id": "jJ_gUGdmzBVw"
      },
      "execution_count": null,
      "outputs": []
    },
    {
      "cell_type": "code",
      "source": [
        "len(x)"
      ],
      "metadata": {
        "colab": {
          "base_uri": "https://localhost:8080/"
        },
        "id": "RhGYwWcizMqR",
        "outputId": "32b365b9-359d-4159-8469-25219eb313a6"
      },
      "execution_count": null,
      "outputs": [
        {
          "output_type": "execute_result",
          "data": {
            "text/plain": [
              "2001"
            ]
          },
          "metadata": {},
          "execution_count": 75
        }
      ]
    },
    {
      "cell_type": "code",
      "source": [
        "x"
      ],
      "metadata": {
        "colab": {
          "base_uri": "https://localhost:8080/"
        },
        "id": "gkEBFs1jzRd9",
        "outputId": "4f6f49fc-22be-47cb-cbe8-7f3a1d52d42f"
      },
      "execution_count": null,
      "outputs": [
        {
          "output_type": "execute_result",
          "data": {
            "text/plain": [
              "array([-2.   , -1.998, -1.996, ...,  1.996,  1.998,  2.   ])"
            ]
          },
          "metadata": {},
          "execution_count": 76
        }
      ]
    },
    {
      "cell_type": "code",
      "source": [
        "# take a single random number from x\n",
        "number = np.random.choice(x)\n",
        "\n",
        "# should not be too big and should not be too small\n",
        "learning_rate = 0.01\n",
        "\n",
        "# run the loop 200 times\n",
        "trainings_epochs = 200\n",
        "for _ in range(trainings_epochs):\n",
        "  # clculate the gradient\n",
        "  gradient = derivative(number)\n",
        "  # update the number\n",
        "  number = number - learning_rate * gradient"
      ],
      "metadata": {
        "id": "fkuMVKAdzYEB"
      },
      "execution_count": null,
      "outputs": []
    },
    {
      "cell_type": "code",
      "source": [
        "print(number)"
      ],
      "metadata": {
        "colab": {
          "base_uri": "https://localhost:8080/"
        },
        "id": "EnO7Pf_k0SJu",
        "outputId": "76acc6d8-f045-433c-c27e-41941984a0cd"
      },
      "execution_count": null,
      "outputs": [
        {
          "output_type": "stream",
          "name": "stdout",
          "text": [
            "0.4999897899700402\n"
          ]
        }
      ]
    },
    {
      "cell_type": "code",
      "source": [
        "# don't worry if you don't understand the code, this is just for illustration\n",
        "plt.plot(x, function(x), x, derivative(x))\n",
        "plt.plot(number, function(number), \"ro\")\n",
        "plt.plot(number, derivative(number), \"ro\")\n",
        "\n",
        "plt.xlim(x[[0, -1]])\n",
        "plt.grid()\n",
        "plt.xlabel(\"x\")\n",
        "plt.ylabel(\"f(x)\")\n",
        "plt.legend([\"f(x)\", \"df\", \"f(x)\", \"min\"])\n",
        "plt.title(f\"Derivative Descen val: {number}\")\n",
        "plt.show()\n"
      ],
      "metadata": {
        "colab": {
          "base_uri": "https://localhost:8080/",
          "height": 472
        },
        "id": "-9qwpinq0Uy1",
        "outputId": "a5782c88-7146-41d9-f3e3-af278d7e326f"
      },
      "execution_count": null,
      "outputs": [
        {
          "output_type": "display_data",
          "data": {
            "text/plain": [
              "<Figure size 640x480 with 1 Axes>"
            ],
            "image/png": "[encoded data removed]"
          },
          "metadata": {}
        }
      ]
    },
    {
      "cell_type": "markdown",
      "source": [
        "# ***Text Generation Techniques***"
      ],
      "metadata": {
        "id": "zn7QiQa-qdyI"
      }
    },
    {
      "cell_type": "markdown",
      "source": [
        "***Greedy Search***"
      ],
      "metadata": {
        "id": "ynYXgai_qqeW"
      }
    },
    {
      "cell_type": "code",
      "source": [
        "import torch\n",
        "from transformers import GPT2LMHeadModel, GPT2Tokenizer\n",
        "\n",
        "tokenizer = GPT2Tokenizer.from_pretrained(\"gpt2\")\n",
        "model = GPT2LMHeadModel.from_pretrained(\"gpt2\")\n",
        "\n",
        "input_text = \"This is a dope GEN AI course\"\n",
        "input_ids = tokenizer.encode(input_text, return_tensors=\"pt\")\n",
        "print(input_ids)"
      ],
      "metadata": {
        "colab": {
          "base_uri": "https://localhost:8080/"
        },
        "id": "npt_8FkqrANu",
        "outputId": "c9171720-0902-4222-bd83-8870553f9739"
      },
      "execution_count": null,
      "outputs": [
        {
          "output_type": "stream",
          "name": "stdout",
          "text": [
            "tensor([[ 1212,   318,   257, 45654, 24700,  9552,  1781]])\n"
          ]
        }
      ]
    },
    {
      "cell_type": "code",
      "source": [
        "generated_text = model.generate(\n",
        "    input_ids,\n",
        "    max_length=50,\n",
        "    do_sample=False\n",
        ")\n",
        "print(\"*************************************************************************************************\")\n",
        "print(tokenizer.decode(generated_text[0], skip_special_tokens=True))"
      ],
      "metadata": {
        "colab": {
          "base_uri": "https://localhost:8080/"
        },
        "id": "3q9l76WerBSy",
        "outputId": "f5741381-5735-4b9c-b247-2052e8d895a7"
      },
      "execution_count": null,
      "outputs": [
        {
          "output_type": "stream",
          "name": "stderr",
          "text": [
            "The attention mask and the pad token id were not set. As a consequence, you may observe unexpected behavior. Please pass your input's `attention_mask` to obtain reliable results.\n",
            "Setting `pad_token_id` to `eos_token_id`:50256 for open-end generation.\n"
          ]
        },
        {
          "output_type": "stream",
          "name": "stdout",
          "text": [
            "*************************************************************************************************\n",
            "This is a dope GEN AI course. I'm not sure if it's a good idea to teach it to you, but I'm sure it's a good idea to teach it to your kids.\n",
            "\n",
            "I'm sure you're going to be\n"
          ]
        }
      ]
    },
    {
      "cell_type": "code",
      "source": [
        "generated_text = model.generate(\n",
        "    input_ids,\n",
        "    max_length=150,\n",
        "    do_sample=False\n",
        ")\n",
        "print(\"*************************************************************************************************\")\n",
        "print(tokenizer.decode(generated_text[0], skip_special_tokens=True))"
      ],
      "metadata": {
        "colab": {
          "base_uri": "https://localhost:8080/"
        },
        "id": "o1zWiJcPrvS9",
        "outputId": "9c8214d5-67db-4698-c113-ea813b122959"
      },
      "execution_count": null,
      "outputs": [
        {
          "output_type": "stream",
          "name": "stderr",
          "text": [
            "The attention mask and the pad token id were not set. As a consequence, you may observe unexpected behavior. Please pass your input's `attention_mask` to obtain reliable results.\n",
            "Setting `pad_token_id` to `eos_token_id`:50256 for open-end generation.\n"
          ]
        },
        {
          "output_type": "stream",
          "name": "stdout",
          "text": [
            "*************************************************************************************************\n",
            "This is a dope GEN AI course. I'm not sure if it's a good idea to teach it to you, but I'm sure it's a good idea to teach it to your kids.\n",
            "\n",
            "I'm sure you're going to be a little bit surprised.\n",
            "\n",
            "I'm sure you're going to be a little bit surprised.\n",
            "\n",
            "I'm sure you're going to be a little bit surprised.\n",
            "\n",
            "I'm sure you're going to be a little bit surprised.\n",
            "\n",
            "I'm sure you're going to be a little bit surprised.\n",
            "\n",
            "I'm sure you're going to be a little bit surprised.\n",
            "\n",
            "I'm sure you're going to be a little bit surprised.\n",
            "\n",
            "I'm sure\n"
          ]
        }
      ]
    },
    {
      "cell_type": "markdown",
      "source": [
        "# ***Beam Search***"
      ],
      "metadata": {
        "id": "jTanu5dytfi8"
      }
    },
    {
      "cell_type": "code",
      "source": [
        "generated_text = model.generate(\n",
        "    input_ids,\n",
        "    max_length=50,\n",
        "    num_beams=5,\n",
        "    early_stopping=True,\n",
        ")\n",
        "\n",
        "# Decode and print the result\n",
        "print(\"*************************************************************************************************\")\n",
        "print(tokenizer.decode(generated_text[0], skip_special_tokens=True))"
      ],
      "metadata": {
        "colab": {
          "base_uri": "https://localhost:8080/"
        },
        "id": "0LjCnv5gtRu4",
        "outputId": "9f646f1f-6c27-4382-a22f-dca7324956d8"
      },
      "execution_count": null,
      "outputs": [
        {
          "output_type": "stream",
          "name": "stderr",
          "text": [
            "The attention mask and the pad token id were not set. As a consequence, you may observe unexpected behavior. Please pass your input's `attention_mask` to obtain reliable results.\n",
            "Setting `pad_token_id` to `eos_token_id`:50256 for open-end generation.\n"
          ]
        },
        {
          "output_type": "stream",
          "name": "stdout",
          "text": [
            "*************************************************************************************************\n",
            "This is a dope GEN AI course, but it's not for the faint of heart. It's for those of you who want to learn how to code, but don't know how to code. It's for those of you who want to learn\n"
          ]
        }
      ]
    },
    {
      "cell_type": "markdown",
      "source": [
        "***Top-K Sample***"
      ],
      "metadata": {
        "id": "8Xc0zWRdviJY"
      }
    },
    {
      "cell_type": "code",
      "source": [
        "generated_text = model.generate(\n",
        "    input_ids,\n",
        "    max_length=50,\n",
        "    do_sample=True,\n",
        "    top_k=50,\n",
        ")\n",
        "\n",
        "# Decode and print the result\n",
        "print(\"*************************************************************************************************\")\n",
        "print(tokenizer.decode(generated_text[0], skip_special_tokens=True))"
      ],
      "metadata": {
        "colab": {
          "base_uri": "https://localhost:8080/"
        },
        "id": "9Um0dcXot3l2",
        "outputId": "e094739a-3dfe-47fe-b8f4-37fec3acaf80"
      },
      "execution_count": null,
      "outputs": [
        {
          "output_type": "stream",
          "name": "stderr",
          "text": [
            "The attention mask and the pad token id were not set. As a consequence, you may observe unexpected behavior. Please pass your input's `attention_mask` to obtain reliable results.\n",
            "Setting `pad_token_id` to `eos_token_id`:50256 for open-end generation.\n"
          ]
        },
        {
          "output_type": "stream",
          "name": "stdout",
          "text": [
            "*************************************************************************************************\n",
            "This is a dope GEN AI course that teaches 3-5 hours an day on the fundamentals of Programming and Machine Learning. This is an all-inclusive course which has lots of links, an extensive knowledge base, and many links that you'll find\n"
          ]
        }
      ]
    },
    {
      "cell_type": "markdown",
      "source": [
        "# ***Top-P Sampling***"
      ],
      "metadata": {
        "id": "-WSmZj9AwL_v"
      }
    },
    {
      "cell_type": "code",
      "source": [
        "generated_text = model.generate(\n",
        "    input_ids,\n",
        "    max_length=50,\n",
        "    do_sample=True,\n",
        "    top_p=0.92,\n",
        ")\n",
        "\n",
        "print(\"*************************************************************************************************\")\n",
        "print(tokenizer.decode(generated_text[0], skip_special_tokens=True))"
      ],
      "metadata": {
        "colab": {
          "base_uri": "https://localhost:8080/"
        },
        "id": "i_Vs9cHWvx-E",
        "outputId": "ba2bdfb7-1474-40db-fb5b-861153c1ece3"
      },
      "execution_count": null,
      "outputs": [
        {
          "output_type": "stream",
          "name": "stderr",
          "text": [
            "The attention mask and the pad token id were not set. As a consequence, you may observe unexpected behavior. Please pass your input's `attention_mask` to obtain reliable results.\n",
            "Setting `pad_token_id` to `eos_token_id`:50256 for open-end generation.\n"
          ]
        },
        {
          "output_type": "stream",
          "name": "stdout",
          "text": [
            "*************************************************************************************************\n",
            "This is a dope GEN AI course, the author had studied in a similar field, and this course was a lot of fun. As I said the courses give a great chance to go out and do some of the best things that I've ever seen\n"
          ]
        }
      ]
    },
    {
      "cell_type": "code",
      "source": [],
      "metadata": {
        "id": "eJ0Cw6owwbMB"
      },
      "execution_count": null,
      "outputs": []
    }
  ]
}